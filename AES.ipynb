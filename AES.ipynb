{
  "nbformat": 4,
  "nbformat_minor": 0,
  "metadata": {
    "colab": {
      "provenance": [],
      "authorship_tag": "ABX9TyNHYk0hpMI8YBNUm8U7w6Mv"
    },
    "kernelspec": {
      "name": "python3",
      "display_name": "Python 3"
    },
    "language_info": {
      "name": "python"
    }
  },
  "cells": [
    {
      "cell_type": "code",
      "execution_count": 3,
      "metadata": {
        "colab": {
          "base_uri": "https://localhost:8080/"
        },
        "id": "Q3BOQplB7JZE",
        "outputId": "11518273-f24a-4787-881c-86f43e0c903c"
      },
      "outputs": [
        {
          "output_type": "stream",
          "name": "stdout",
          "text": [
            "Collecting pycryptodome\n",
            "  Downloading pycryptodome-3.22.0-cp37-abi3-manylinux_2_17_x86_64.manylinux2014_x86_64.whl.metadata (3.4 kB)\n",
            "Downloading pycryptodome-3.22.0-cp37-abi3-manylinux_2_17_x86_64.manylinux2014_x86_64.whl (2.3 MB)\n",
            "\u001b[?25l   \u001b[90m━━━━━━━━━━━━━━━━━━━━━━━━━━━━━━━━━━━━━━━━\u001b[0m \u001b[32m0.0/2.3 MB\u001b[0m \u001b[31m?\u001b[0m eta \u001b[36m-:--:--\u001b[0m\r\u001b[2K   \u001b[91m━━━━━━━━━━━━━━━━━━━━━━━━━━━━━━━━━━━━━━━\u001b[0m\u001b[91m╸\u001b[0m \u001b[32m2.3/2.3 MB\u001b[0m \u001b[31m90.1 MB/s\u001b[0m eta \u001b[36m0:00:01\u001b[0m\r\u001b[2K   \u001b[90m━━━━━━━━━━━━━━━━━━━━━━━━━━━━━━━━━━━━━━━━\u001b[0m \u001b[32m2.3/2.3 MB\u001b[0m \u001b[31m50.5 MB/s\u001b[0m eta \u001b[36m0:00:00\u001b[0m\n",
            "\u001b[?25hInstalling collected packages: pycryptodome\n",
            "Successfully installed pycryptodome-3.22.0\n",
            "Ciphertext: wKN+VE4Lb7vieX9evfkdUYoCgXqZie65jJHbGSivSmYlX/oopEedjmwr4OsAU/Af\n",
            "Decrypted: Hello, AES encryption!\n"
          ]
        }
      ],
      "source": [
        "!pip install pycryptodome\n",
        "from Crypto.Cipher import AES\n",
        "from Crypto.Random import get_random_bytes\n",
        "import base64\n",
        "\n",
        "def pad(text):\n",
        "    pad_len = 16 - (len(text) % 16)\n",
        "    return text + chr(pad_len) * pad_len\n",
        "\n",
        "def unpad(text):\n",
        "    pad_len = ord(text[-1])\n",
        "    return text[:-pad_len]\n",
        "\n",
        "def encrypt_AES(key, plaintext):\n",
        "    key = key.encode('utf-8')\n",
        "    plaintext = pad(plaintext).encode('utf-8')\n",
        "    iv = get_random_bytes(16)\n",
        "    cipher = AES.new(key, AES.MODE_CBC, iv)\n",
        "    ciphertext = cipher.encrypt(plaintext)\n",
        "    return base64.b64encode(iv + ciphertext).decode('utf-8')\n",
        "\n",
        "def decrypt_AES(key, ciphertext_b64):\n",
        "    key = key.encode('utf-8')\n",
        "    data = base64.b64decode(ciphertext_b64)\n",
        "    iv = data[:16]\n",
        "    ciphertext = data[16:]\n",
        "    cipher = AES.new(key, AES.MODE_CBC, iv)\n",
        "    plaintext = cipher.decrypt(ciphertext).decode('utf-8')\n",
        "    return unpad(plaintext)\n",
        "\n",
        "key = 'thisisasecretkey'\n",
        "plaintext = 'Hello, AES encryption!'\n",
        "ciphertext = encrypt_AES(key, plaintext)\n",
        "decrypted = decrypt_AES(key, ciphertext)\n",
        "\n",
        "print(\"Ciphertext:\", ciphertext)\n",
        "print(\"Decrypted:\", decrypted)"
      ]
    }
  ]
}