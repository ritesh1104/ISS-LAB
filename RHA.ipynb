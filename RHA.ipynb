{
  "nbformat": 4,
  "nbformat_minor": 0,
  "metadata": {
    "colab": {
      "provenance": [],
      "authorship_tag": "ABX9TyOYsPgsVa238GkeB1iWAgPb"
    },
    "kernelspec": {
      "name": "python3",
      "display_name": "Python 3"
    },
    "language_info": {
      "name": "python"
    }
  },
  "cells": [
    {
      "cell_type": "code",
      "execution_count": 1,
      "metadata": {
        "colab": {
          "base_uri": "https://localhost:8080/"
        },
        "id": "g_7TX3az87k8",
        "outputId": "c6841fb2-324a-41b5-f422-371dafefb945"
      },
      "outputs": [
        {
          "output_type": "stream",
          "name": "stdout",
          "text": [
            "Collecting pycryptodome\n",
            "  Downloading pycryptodome-3.22.0-cp37-abi3-manylinux_2_17_x86_64.manylinux2014_x86_64.whl.metadata (3.4 kB)\n",
            "Downloading pycryptodome-3.22.0-cp37-abi3-manylinux_2_17_x86_64.manylinux2014_x86_64.whl (2.3 MB)\n",
            "\u001b[2K   \u001b[90m━━━━━━━━━━━━━━━━━━━━━━━━━━━━━━━━━━━━━━━━\u001b[0m \u001b[32m2.3/2.3 MB\u001b[0m \u001b[31m23.1 MB/s\u001b[0m eta \u001b[36m0:00:00\u001b[0m\n",
            "\u001b[?25hInstalling collected packages: pycryptodome\n",
            "Successfully installed pycryptodome-3.22.0\n",
            "Encrypted: PjrAX8SJdidgKgEKqYfeUU6g0hLOizPzaVQsBeDig2DU6UfVmkSMNVq9jfpDMYavpQOOzjuN6QppWt+eOK5/8WMKq0iH8WCS9dBHQggJxJuBQyuZYOk3dhq8vOgVror2SkbXuVIP0SeNX2y15hrqBJYeEP/pZw0+dJNyveTSiOYTqlcx8d7PWaOFDZmDAcgZQFltpxwabQG9q0WBHamPPtQcpjhcgzo6DVfLgk3LiuA0TcxKfeuFwjvHrcKi44tq7BAaP0yEg0FuILY5Re+ENpscF/5/00S7GIxCmgy0tH19JeZYSMUnTz+JOpAFL4EYY54Em8AkXxRMVI7/sgNnIQ==\n",
            "Decrypted: Hello RSA\n"
          ]
        }
      ],
      "source": [
        "!pip install pycryptodome\n",
        "from Crypto.PublicKey import RSA\n",
        "from Crypto.Cipher import PKCS1_OAEP\n",
        "import base64\n",
        "\n",
        "key = RSA.generate(2048)\n",
        "public_key = key.publickey()\n",
        "\n",
        "encryptor = PKCS1_OAEP.new(public_key)\n",
        "ciphertext = encryptor.encrypt(b'Hello RSA')\n",
        "cipher_b64 = base64.b64encode(ciphertext)\n",
        "\n",
        "decryptor = PKCS1_OAEP.new(key)\n",
        "decrypted = decryptor.decrypt(base64.b64decode(cipher_b64))\n",
        "\n",
        "print(\"Encrypted:\", cipher_b64.decode())\n",
        "print(\"Decrypted:\", decrypted.decode())\n"
      ]
    }
  ]
}